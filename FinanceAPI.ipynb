{
  "nbformat": 4,
  "nbformat_minor": 0,
  "metadata": {
    "colab": {
      "provenance": [],
      "authorship_tag": "ABX9TyMAkEs9ol6Vz/LxtmUlcsyR",
      "include_colab_link": true
    },
    "kernelspec": {
      "name": "python3",
      "display_name": "Python 3"
    },
    "language_info": {
      "name": "python"
    }
  },
  "cells": [
    {
      "cell_type": "markdown",
      "metadata": {
        "id": "view-in-github",
        "colab_type": "text"
      },
      "source": [
        "<a href=\"https://colab.research.google.com/github/bhav23/ds2002/blob/main/FinanceAPI.ipynb\" target=\"_parent\"><img src=\"https://colab.research.google.com/assets/colab-badge.svg\" alt=\"Open In Colab\"/></a>"
      ]
    },
    {
      "cell_type": "code",
      "execution_count": null,
      "metadata": {
        "id": "qMfONGSaNRmq"
      },
      "outputs": [],
      "source": []
    },
    {
      "cell_type": "markdown",
      "source": [
        "Task 1: Fetch Basic Stock Data 10pts\n",
        "- Prompt the user to input two or more stock symbols.\n",
        "- Use the API to fetch data for the given symbols.\n",
        "- Extract and display only the Stock Ticker, Company Name, and Current Market Price.\n",
        "Example Output:\n",
        "Stock Ticker: AAPL, Company: Apple Inc., Current Market Price: $175.23\n",
        "Stock Ticker: MSFT, Company: Microsoft Corp., Current Market Price: $310.45\n",
        "\n",
        "\n"
      ],
      "metadata": {
        "id": "RSFWTb1xNSpR"
      }
    },
    {
      "cell_type": "code",
      "source": [
        "import json\n",
        "import pandas as pd\n",
        "import json\n",
        "import requests\n",
        "\n",
        "#get stock user input\n",
        "stock=input()"
      ],
      "metadata": {
        "colab": {
          "base_uri": "https://localhost:8080/"
        },
        "id": "QZQle3lAOuXp",
        "outputId": "fd111d65-68e5-4bcb-e920-e02792412b41"
      },
      "execution_count": 16,
      "outputs": [
        {
          "name": "stdout",
          "output_type": "stream",
          "text": [
            "AAPL\n"
          ]
        }
      ]
    },
    {
      "cell_type": "code",
      "source": [
        "apikey=\"\"\n",
        "\n",
        "url = \"https://yfapi.net/v6/finance/quote\"\n",
        "\n",
        "querystring = {\"symbols\":stock}\n",
        "\n",
        "headers = {\n",
        "    'x-api-key': apikey\n",
        "    }\n",
        "\n",
        "response = requests.request(\"GET\", url, headers=headers, params=querystring)\n",
        "df = pd.DataFrame(response.json()['quoteResponse']['result'])\n",
        "df.head()\n",
        "\n",
        "print(df[['symbol', 'shortName', 'regularMarketPrice']])"
      ],
      "metadata": {
        "colab": {
          "base_uri": "https://localhost:8080/",
          "height": 211
        },
        "id": "SjRpRiRUOgOr",
        "outputId": "261537f5-cc8a-4878-d3a7-f6cad95086a0"
      },
      "execution_count": 21,
      "outputs": [
        {
          "output_type": "error",
          "ename": "KeyError",
          "evalue": "'quoteResponse'",
          "traceback": [
            "\u001b[0;31m---------------------------------------------------------------------------\u001b[0m",
            "\u001b[0;31mKeyError\u001b[0m                                  Traceback (most recent call last)",
            "\u001b[0;32m<ipython-input-21-59b47c1b20d2>\u001b[0m in \u001b[0;36m<cell line: 0>\u001b[0;34m()\u001b[0m\n\u001b[1;32m     10\u001b[0m \u001b[0;34m\u001b[0m\u001b[0m\n\u001b[1;32m     11\u001b[0m \u001b[0mresponse\u001b[0m \u001b[0;34m=\u001b[0m \u001b[0mrequests\u001b[0m\u001b[0;34m.\u001b[0m\u001b[0mrequest\u001b[0m\u001b[0;34m(\u001b[0m\u001b[0;34m\"GET\"\u001b[0m\u001b[0;34m,\u001b[0m \u001b[0murl\u001b[0m\u001b[0;34m,\u001b[0m \u001b[0mheaders\u001b[0m\u001b[0;34m=\u001b[0m\u001b[0mheaders\u001b[0m\u001b[0;34m,\u001b[0m \u001b[0mparams\u001b[0m\u001b[0;34m=\u001b[0m\u001b[0mquerystring\u001b[0m\u001b[0;34m)\u001b[0m\u001b[0;34m\u001b[0m\u001b[0;34m\u001b[0m\u001b[0m\n\u001b[0;32m---> 12\u001b[0;31m \u001b[0mdf\u001b[0m \u001b[0;34m=\u001b[0m \u001b[0mpd\u001b[0m\u001b[0;34m.\u001b[0m\u001b[0mDataFrame\u001b[0m\u001b[0;34m(\u001b[0m\u001b[0mresponse\u001b[0m\u001b[0;34m.\u001b[0m\u001b[0mjson\u001b[0m\u001b[0;34m(\u001b[0m\u001b[0;34m)\u001b[0m\u001b[0;34m[\u001b[0m\u001b[0;34m'quoteResponse'\u001b[0m\u001b[0;34m]\u001b[0m\u001b[0;34m[\u001b[0m\u001b[0;34m'result'\u001b[0m\u001b[0;34m]\u001b[0m\u001b[0;34m)\u001b[0m\u001b[0;34m\u001b[0m\u001b[0;34m\u001b[0m\u001b[0m\n\u001b[0m\u001b[1;32m     13\u001b[0m \u001b[0mdf\u001b[0m\u001b[0;34m.\u001b[0m\u001b[0mhead\u001b[0m\u001b[0;34m(\u001b[0m\u001b[0;34m)\u001b[0m\u001b[0;34m\u001b[0m\u001b[0;34m\u001b[0m\u001b[0m\n\u001b[1;32m     14\u001b[0m \u001b[0;34m\u001b[0m\u001b[0m\n",
            "\u001b[0;31mKeyError\u001b[0m: 'quoteResponse'"
          ]
        }
      ]
    },
    {
      "cell_type": "markdown",
      "source": [
        "Task 2.1: Fetch Additional Data Using Modules 10pts\n",
        "- Allow the user to choose a module from the Quote Summary Endpoint.\n",
        "Find:\n",
        "52 Week High\n",
        "52 Week Low\n",
        "Return on Assets (ROA)\n",
        "- Make an API request using the chosen module.\n",
        "- Convert the response into a Pandas DataFrame.\n",
        "- Display the DataFrame.\n"
      ],
      "metadata": {
        "id": "LETpA5dmN1wK"
      }
    },
    {
      "cell_type": "code",
      "source": [
        "import json\n",
        "import pandas as pd\n",
        "import json\n",
        "import requests\n",
        "\n",
        "stock=input(\"Enter a stock\")\n",
        "apikey=\"\"\n",
        "print(\"Choose a module: Financial Data or Summary Detail\")\n",
        "stock_module=input()\n",
        "\n",
        "\n",
        "url = f\"https://yfapi.net/v11/finance/quoteSummary/{stock}\"\n",
        "\n",
        "querystring = {\"modules\": stock_module}\n",
        "\n",
        "headers = {\n",
        "    'x-api-key': apikey\n",
        "    }\n",
        "\n",
        "response = requests.request(\"GET\", url, headers=headers, params=querystring)\n",
        "data = response.json()\n",
        "\n",
        "resp = []\n",
        "\n",
        "for stocks in data['quoteSummary']['result']:\n",
        "  s = stock\n",
        "  if stock_module == 'financialData':\n",
        "    temp = stocks.get('financialData', {})\n",
        "    f = {\"Stock Symbol\": s,\n",
        "     \"Return on Assets\": temp.get('returnOnAssets', {}).get('raw', \"N/A\"),\n",
        "     }\n",
        "    resp.append(f)\n",
        "  elif stock_module == 'summaryDetail':\n",
        "    temp = stocks.get('summaryDetail', {})\n",
        "    sD = {\"Stock Symbol\": s,\n",
        "    \"52 Week High\": temp.get('fiftyTwoWeekHigh', {}).get('raw', \"N/A\"),\n",
        "    \"52 Week Low\": temp.get('fiftyTwoWeekLow', {}).get('raw', \"N/A\")\n",
        "     }\n",
        "    resp.append(sD)\n",
        "\n",
        "df = pd.DataFrame(resp)\n",
        "print(\"\\n\", df)"
      ],
      "metadata": {
        "colab": {
          "base_uri": "https://localhost:8080/",
          "height": 263
        },
        "id": "jRFUDOl4Zeeo",
        "outputId": "45da315e-d275-40c8-b278-9a23b2b7b0a3"
      },
      "execution_count": 22,
      "outputs": [
        {
          "name": "stdout",
          "output_type": "stream",
          "text": [
            "Enter a stockAAPL \n",
            "Choose a module: Financial Data or Summary Detail\n",
            "financialData\n"
          ]
        },
        {
          "output_type": "error",
          "ename": "KeyError",
          "evalue": "'quoteSummary'",
          "traceback": [
            "\u001b[0;31m---------------------------------------------------------------------------\u001b[0m",
            "\u001b[0;31mKeyError\u001b[0m                                  Traceback (most recent call last)",
            "\u001b[0;32m<ipython-input-22-2ac24287948e>\u001b[0m in \u001b[0;36m<cell line: 0>\u001b[0;34m()\u001b[0m\n\u001b[1;32m     23\u001b[0m \u001b[0mresp\u001b[0m \u001b[0;34m=\u001b[0m \u001b[0;34m[\u001b[0m\u001b[0;34m]\u001b[0m\u001b[0;34m\u001b[0m\u001b[0;34m\u001b[0m\u001b[0m\n\u001b[1;32m     24\u001b[0m \u001b[0;34m\u001b[0m\u001b[0m\n\u001b[0;32m---> 25\u001b[0;31m \u001b[0;32mfor\u001b[0m \u001b[0mstocks\u001b[0m \u001b[0;32min\u001b[0m \u001b[0mdata\u001b[0m\u001b[0;34m[\u001b[0m\u001b[0;34m'quoteSummary'\u001b[0m\u001b[0;34m]\u001b[0m\u001b[0;34m[\u001b[0m\u001b[0;34m'result'\u001b[0m\u001b[0;34m]\u001b[0m\u001b[0;34m:\u001b[0m\u001b[0;34m\u001b[0m\u001b[0;34m\u001b[0m\u001b[0m\n\u001b[0m\u001b[1;32m     26\u001b[0m   \u001b[0ms\u001b[0m \u001b[0;34m=\u001b[0m \u001b[0mstock\u001b[0m\u001b[0;34m\u001b[0m\u001b[0;34m\u001b[0m\u001b[0m\n\u001b[1;32m     27\u001b[0m   \u001b[0;32mif\u001b[0m \u001b[0mstock_module\u001b[0m \u001b[0;34m==\u001b[0m \u001b[0;34m'financialData'\u001b[0m\u001b[0;34m:\u001b[0m\u001b[0;34m\u001b[0m\u001b[0;34m\u001b[0m\u001b[0m\n",
            "\u001b[0;31mKeyError\u001b[0m: 'quoteSummary'"
          ]
        }
      ]
    },
    {
      "cell_type": "markdown",
      "source": [
        "Task 2.2: Fetch Additional Data Using Modules 10pts\n",
        "Find Current Trending Stocks , Their Actual Name and Ticker and Current Price as well as\n",
        "their 52 high and low.\n",
        "Bonus Challenge\n",
        "- Allow users to fetch data for different modules dynamically.\n",
        "- Format currency values properly (e.g., `$1,500,000,000` instead of `1500000000`).\n",
        "- Bonus Challenge 2 (for 10 points) Where is Elon’s Plane Right NOW?"
      ],
      "metadata": {
        "id": "4F9Q_wnJNohy"
      }
    },
    {
      "cell_type": "code",
      "source": [
        "import requests\n",
        "import pandas as pd\n",
        "\n",
        "\n",
        "apikey = \"\"\n",
        "\n",
        "\n",
        "url_trending = \"https://yfapi.net/v1/finance/trending/US\"\n",
        "url_quoteSummary = \"https://yfapi.net/v6/finance/quoteSummary/\"\n",
        "\n",
        "headers = {\n",
        "    'x-api-key': apikey\n",
        "}\n",
        "\n",
        "#access trending stocks:\n",
        "response = requests.get(url_trending, headers=headers)\n",
        "trending_data = response.json()\n",
        "\n",
        "if 'finance' in trending_data and 'result' in trending_data['finance'] and len(trending_data['finance']['result']) > 0:\n",
        "  trending_stocks = [stock['symbol'] for stock in trending_data['finance']['result'][0]['quotes']]\n",
        "\n",
        "\n",
        "stock_data = []\n",
        "\n",
        "for stock in trending_stocks:\n",
        "    url = f\"https://yfapi.net/v11/finance/quoteSummary/{stock}\"\n",
        "\n",
        "    params = {\"modules\": \"summaryDetail\"}\n",
        "\n",
        "    response = requests.get(url, headers=headers, params=params)\n",
        "    data = response.json()\n",
        "\n",
        "    stock_info = data['quoteSummary']['result'][0]\n",
        "\n",
        "    details = stock_info.get('summaryDetail', {})\n",
        "\n",
        "    stock_data.append({\n",
        "        \"Stock Symbol\": stock,\n",
        "        \"Company Name\": (details.get('longName', \"N/A\")),\n",
        "        \"Current Price\": (details.get('regularMarketPrice', {}).get('raw', \"N/A\")),\n",
        "        \"52 Week High\": (details.get('fiftyTwoWeekHigh', {}).get('raw', \"N/A\")),\n",
        "        \"52 Week Low\": (details.get('fiftyTwoWeekLow', {}).get('raw', \"N/A\")),\n",
        "    })\n",
        "\n",
        "df = pd.DataFrame(stock_data)\n",
        "\n",
        "print(\"\\nStock Data:\")\n",
        "print(df)\n"
      ],
      "metadata": {
        "colab": {
          "base_uri": "https://localhost:8080/",
          "height": 211
        },
        "id": "Kw9-_YwGoo_u",
        "outputId": "079f5cae-8509-46ad-ec0b-1b48c08013a3"
      },
      "execution_count": 24,
      "outputs": [
        {
          "output_type": "error",
          "ename": "KeyError",
          "evalue": "'quoteSummary'",
          "traceback": [
            "\u001b[0;31m---------------------------------------------------------------------------\u001b[0m",
            "\u001b[0;31mKeyError\u001b[0m                                  Traceback (most recent call last)",
            "\u001b[0;32m<ipython-input-24-2e12bf125ca3>\u001b[0m in \u001b[0;36m<cell line: 0>\u001b[0;34m()\u001b[0m\n\u001b[1;32m     31\u001b[0m     \u001b[0mdata\u001b[0m \u001b[0;34m=\u001b[0m \u001b[0mresponse\u001b[0m\u001b[0;34m.\u001b[0m\u001b[0mjson\u001b[0m\u001b[0;34m(\u001b[0m\u001b[0;34m)\u001b[0m\u001b[0;34m\u001b[0m\u001b[0;34m\u001b[0m\u001b[0m\n\u001b[1;32m     32\u001b[0m \u001b[0;34m\u001b[0m\u001b[0m\n\u001b[0;32m---> 33\u001b[0;31m     \u001b[0mstock_info\u001b[0m \u001b[0;34m=\u001b[0m \u001b[0mdata\u001b[0m\u001b[0;34m[\u001b[0m\u001b[0;34m'quoteSummary'\u001b[0m\u001b[0;34m]\u001b[0m\u001b[0;34m[\u001b[0m\u001b[0;34m'result'\u001b[0m\u001b[0;34m]\u001b[0m\u001b[0;34m[\u001b[0m\u001b[0;36m0\u001b[0m\u001b[0;34m]\u001b[0m\u001b[0;34m\u001b[0m\u001b[0;34m\u001b[0m\u001b[0m\n\u001b[0m\u001b[1;32m     34\u001b[0m \u001b[0;34m\u001b[0m\u001b[0m\n\u001b[1;32m     35\u001b[0m     \u001b[0mdetails\u001b[0m \u001b[0;34m=\u001b[0m \u001b[0mstock_info\u001b[0m\u001b[0;34m.\u001b[0m\u001b[0mget\u001b[0m\u001b[0;34m(\u001b[0m\u001b[0;34m'summaryDetail'\u001b[0m\u001b[0;34m,\u001b[0m \u001b[0;34m{\u001b[0m\u001b[0;34m}\u001b[0m\u001b[0;34m)\u001b[0m\u001b[0;34m\u001b[0m\u001b[0;34m\u001b[0m\u001b[0m\n",
            "\u001b[0;31mKeyError\u001b[0m: 'quoteSummary'"
          ]
        }
      ]
    }
  ]
}