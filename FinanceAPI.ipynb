{
  "nbformat": 4,
  "nbformat_minor": 0,
  "metadata": {
    "colab": {
      "provenance": [],
      "authorship_tag": "ABX9TyMBLh4Zdg77Y2Im7IPLQYaZ",
      "include_colab_link": true
    },
    "kernelspec": {
      "name": "python3",
      "display_name": "Python 3"
    },
    "language_info": {
      "name": "python"
    }
  },
  "cells": [
    {
      "cell_type": "markdown",
      "metadata": {
        "id": "view-in-github",
        "colab_type": "text"
      },
      "source": [
        "<a href=\"https://colab.research.google.com/github/bhav23/ds2002/blob/main/FinanceAPI.ipynb\" target=\"_parent\"><img src=\"https://colab.research.google.com/assets/colab-badge.svg\" alt=\"Open In Colab\"/></a>"
      ]
    },
    {
      "cell_type": "code",
      "execution_count": null,
      "metadata": {
        "id": "qMfONGSaNRmq"
      },
      "outputs": [],
      "source": []
    },
    {
      "cell_type": "markdown",
      "source": [
        "Task 1: Fetch Basic Stock Data 10pts\n",
        "- Prompt the user to input two or more stock symbols.\n",
        "- Use the API to fetch data for the given symbols.\n",
        "- Extract and display only the Stock Ticker, Company Name, and Current Market Price.\n",
        "Example Output:\n",
        "Stock Ticker: AAPL, Company: Apple Inc., Current Market Price: $175.23\n",
        "Stock Ticker: MSFT, Company: Microsoft Corp., Current Market Price: $310.45\n",
        "\n",
        "\n"
      ],
      "metadata": {
        "id": "RSFWTb1xNSpR"
      }
    },
    {
      "cell_type": "code",
      "source": [
        "import json\n",
        "import pandas as pd\n",
        "import json\n",
        "import requests\n",
        "\n",
        "#get stock user input\n",
        "stock=input(\"Enter two or more stock symbols\").upper()"
      ],
      "metadata": {
        "colab": {
          "base_uri": "https://localhost:8080/"
        },
        "id": "QZQle3lAOuXp",
        "outputId": "47bb55d8-ed03-492e-a561-9735a38d6d80"
      },
      "execution_count": 8,
      "outputs": [
        {
          "name": "stdout",
          "output_type": "stream",
          "text": [
            "Enter two or more stock symbolsAAPL, MSFT\n"
          ]
        }
      ]
    },
    {
      "cell_type": "code",
      "source": [
        "apikey=\"WDMlfi93Co29SNBhGgEfz9NBeVCW6QB64vhpO4gJ\"\n",
        "\n",
        "url = \"https://yfapi.net/v6/finance/quote\"\n",
        "\n",
        "querystring = {\"symbols\":stock}\n",
        "\n",
        "headers = {\n",
        "    'x-api-key': apikey\n",
        "    }\n",
        "\n",
        "response = requests.request(\"GET\", url, headers=headers, params=querystring)\n",
        "df = pd.DataFrame(response.json()['quoteResponse']['result'])\n",
        "print(df[['symbol', 'shortName', 'regularMarketPrice']])"
      ],
      "metadata": {
        "colab": {
          "base_uri": "https://localhost:8080/"
        },
        "id": "SjRpRiRUOgOr",
        "outputId": "8ca79c27-a068-45b0-c1e1-fe3eee7a723c",
        "collapsed": true
      },
      "execution_count": 13,
      "outputs": [
        {
          "output_type": "stream",
          "name": "stdout",
          "text": [
            "{'symbols': 'AAPL, MSFT'}\n",
            "  symbol   shortName  regularMarketPrice\n",
            "0   AAPL  Apple Inc.             211.236\n"
          ]
        }
      ]
    },
    {
      "cell_type": "markdown",
      "source": [
        "Task 2.1: Fetch Additional Data Using Modules 10pts\n",
        "- Allow the user to choose a module from the Quote Summary Endpoint.\n",
        "Find:\n",
        "52 Week High\n",
        "52 Week Low\n",
        "Return on Assets (ROA)\n",
        "- Make an API request using the chosen module.\n",
        "- Convert the response into a Pandas DataFrame.\n",
        "- Display the DataFrame.\n"
      ],
      "metadata": {
        "id": "LETpA5dmN1wK"
      }
    },
    {
      "cell_type": "code",
      "source": [
        "import json\n",
        "import pandas as pd\n",
        "import json\n",
        "import requests\n",
        "\n",
        "stock=input(\"Enter a stock\")\n",
        "\n",
        "stock_module = input(\"Choose a module: Financial Data or Summary Detail\").strip()\n",
        "\n",
        "apikey=\"WDMlfi93Co29SNBhGgEfz9NBeVCW6QB64vhpO4gJ\"\n",
        "headers = {\n",
        "    'x-api-key': apikey\n",
        "    }\n",
        "\n",
        "url = f\"https://yfapi.net/v11/finance/quoteSummary/{stock}\"\n",
        "querystring = {\"modules\": stock_module, \"symbols\":stock}\n",
        "\n",
        "\n",
        "\n",
        "response = requests.request(\"GET\", url, headers=headers, params=querystring)\n",
        "data = response.json()\n",
        "\n",
        "resp = []\n",
        "\n",
        "for stocks in data['quoteSummary']['result']:\n",
        "  s = stock\n",
        "  if stock_module == 'financialData':\n",
        "    temp = stocks.get('financialData', {})\n",
        "    f = {\"Stock Symbol\": s,\n",
        "     \"Return on Assets\": temp.get('returnOnAssets', {}).get('raw', \"N/A\"),\n",
        "     }\n",
        "    resp.append(f)\n",
        "  elif stock_module == 'summaryDetail':\n",
        "    temp = stocks.get('summaryDetail', {})\n",
        "    sD = {\"Stock Symbol\": s,\n",
        "    \"52 Week High\": temp.get('fiftyTwoWeekHigh', {}).get('raw', \"N/A\"),\n",
        "    \"52 Week Low\": temp.get('fiftyTwoWeekLow', {}).get('raw', \"N/A\")\n",
        "     }\n",
        "    resp.append(sD)\n",
        "\n",
        "df = pd.DataFrame(resp)\n",
        "print(\"\\n\", df)"
      ],
      "metadata": {
        "colab": {
          "base_uri": "https://localhost:8080/"
        },
        "id": "jRFUDOl4Zeeo",
        "outputId": "ee69316b-3c14-4682-9795-444c47796df3",
        "collapsed": true
      },
      "execution_count": 17,
      "outputs": [
        {
          "output_type": "stream",
          "name": "stdout",
          "text": [
            "Enter a stockAAPL\n",
            "Choose a module: Financial Data or Summary DetailsummaryDetail\n",
            "\n",
            "   Stock Symbol  52 Week High  52 Week Low\n",
            "0         AAPL         260.1       164.08\n"
          ]
        }
      ]
    },
    {
      "cell_type": "markdown",
      "source": [
        "Task 2.2: Fetch Additional Data Using Modules 10pts\n",
        "Find Current Trending Stocks , Their Actual Name and Ticker and Current Price as well as\n",
        "their 52 high and low.\n",
        "Bonus Challenge\n",
        "- Allow users to fetch data for different modules dynamically.\n",
        "- Format currency values properly (e.g., `$1,500,000,000` instead of `1500000000`).\n",
        "- Bonus Challenge 2 (for 10 points) Where is Elon’s Plane Right NOW?"
      ],
      "metadata": {
        "id": "4F9Q_wnJNohy"
      }
    },
    {
      "cell_type": "code",
      "source": [
        "import requests\n",
        "import pandas as pd\n",
        "\n",
        "\n",
        "apikey = \"\"\n",
        "\n",
        "\n",
        "url_trending = \"https://yfapi.net/v1/finance/trending/US\"\n",
        "url_quoteSummary = \"https://yfapi.net/v6/finance/quoteSummary/\"\n",
        "\n",
        "headers = {\n",
        "    'x-api-key': apikey\n",
        "}\n",
        "\n",
        "#access trending stocks:\n",
        "response = requests.get(url_trending, headers=headers)\n",
        "trending_data = response.json()\n",
        "\n",
        "if 'finance' in trending_data and 'result' in trending_data['finance'] and len(trending_data['finance']['result']) > 0:\n",
        "  trending_stocks = [stock['symbol'] for stock in trending_data['finance']['result'][0]['quotes']]\n",
        "\n",
        "\n",
        "stock_data = []\n",
        "\n",
        "for stock in trending_stocks:\n",
        "    url = f\"https://yfapi.net/v11/finance/quoteSummary/{stock}\"\n",
        "\n",
        "    params = {\"modules\": \"summaryDetail\"}\n",
        "\n",
        "    response = requests.get(url, headers=headers, params=params)\n",
        "    data = response.json()\n",
        "\n",
        "    stock_info = data['quoteSummary']['result'][0]\n",
        "\n",
        "    details = stock_info.get('summaryDetail', {})\n",
        "\n",
        "    stock_data.append({\n",
        "        \"Stock Symbol\": stock,\n",
        "        \"Company Name\": (details.get('longName', \"N/A\")),\n",
        "        \"Current Price\": (details.get('regularMarketPrice', {}).get('raw', \"N/A\")),\n",
        "        \"52 Week High\": (details.get('fiftyTwoWeekHigh', {}).get('raw', \"N/A\")),\n",
        "        \"52 Week Low\": (details.get('fiftyTwoWeekLow', {}).get('raw', \"N/A\")),\n",
        "    })\n",
        "\n",
        "df = pd.DataFrame(stock_data)\n",
        "\n",
        "print(\"\\nStock Data:\")\n",
        "print(df)\n"
      ],
      "metadata": {
        "colab": {
          "base_uri": "https://localhost:8080/",
          "height": 211
        },
        "id": "Kw9-_YwGoo_u",
        "outputId": "079f5cae-8509-46ad-ec0b-1b48c08013a3",
        "collapsed": true
      },
      "execution_count": null,
      "outputs": [
        {
          "output_type": "error",
          "ename": "KeyError",
          "evalue": "'quoteSummary'",
          "traceback": [
            "\u001b[0;31m---------------------------------------------------------------------------\u001b[0m",
            "\u001b[0;31mKeyError\u001b[0m                                  Traceback (most recent call last)",
            "\u001b[0;32m<ipython-input-24-2e12bf125ca3>\u001b[0m in \u001b[0;36m<cell line: 0>\u001b[0;34m()\u001b[0m\n\u001b[1;32m     31\u001b[0m     \u001b[0mdata\u001b[0m \u001b[0;34m=\u001b[0m \u001b[0mresponse\u001b[0m\u001b[0;34m.\u001b[0m\u001b[0mjson\u001b[0m\u001b[0;34m(\u001b[0m\u001b[0;34m)\u001b[0m\u001b[0;34m\u001b[0m\u001b[0;34m\u001b[0m\u001b[0m\n\u001b[1;32m     32\u001b[0m \u001b[0;34m\u001b[0m\u001b[0m\n\u001b[0;32m---> 33\u001b[0;31m     \u001b[0mstock_info\u001b[0m \u001b[0;34m=\u001b[0m \u001b[0mdata\u001b[0m\u001b[0;34m[\u001b[0m\u001b[0;34m'quoteSummary'\u001b[0m\u001b[0;34m]\u001b[0m\u001b[0;34m[\u001b[0m\u001b[0;34m'result'\u001b[0m\u001b[0;34m]\u001b[0m\u001b[0;34m[\u001b[0m\u001b[0;36m0\u001b[0m\u001b[0;34m]\u001b[0m\u001b[0;34m\u001b[0m\u001b[0;34m\u001b[0m\u001b[0m\n\u001b[0m\u001b[1;32m     34\u001b[0m \u001b[0;34m\u001b[0m\u001b[0m\n\u001b[1;32m     35\u001b[0m     \u001b[0mdetails\u001b[0m \u001b[0;34m=\u001b[0m \u001b[0mstock_info\u001b[0m\u001b[0;34m.\u001b[0m\u001b[0mget\u001b[0m\u001b[0;34m(\u001b[0m\u001b[0;34m'summaryDetail'\u001b[0m\u001b[0;34m,\u001b[0m \u001b[0;34m{\u001b[0m\u001b[0;34m}\u001b[0m\u001b[0;34m)\u001b[0m\u001b[0;34m\u001b[0m\u001b[0;34m\u001b[0m\u001b[0m\n",
            "\u001b[0;31mKeyError\u001b[0m: 'quoteSummary'"
          ]
        }
      ]
    }
  ]
}