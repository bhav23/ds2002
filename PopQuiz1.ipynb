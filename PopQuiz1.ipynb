{
  "nbformat": 4,
  "nbformat_minor": 0,
  "metadata": {
    "colab": {
      "provenance": [],
      "authorship_tag": "ABX9TyOWL3qn/I5NktVOupvyrngP",
      "include_colab_link": true
    },
    "kernelspec": {
      "name": "python3",
      "display_name": "Python 3"
    },
    "language_info": {
      "name": "python"
    }
  },
  "cells": [
    {
      "cell_type": "markdown",
      "metadata": {
        "id": "view-in-github",
        "colab_type": "text"
      },
      "source": [
        "<a href=\"https://colab.research.google.com/github/bhav23/ds2002/blob/main/PopQuiz1.ipynb\" target=\"_parent\"><img src=\"https://colab.research.google.com/assets/colab-badge.svg\" alt=\"Open In Colab\"/></a>"
      ]
    },
    {
      "cell_type": "code",
      "execution_count": null,
      "metadata": {
        "id": "wte95Swx2p9y"
      },
      "outputs": [],
      "source": []
    },
    {
      "cell_type": "markdown",
      "source": [
        "1. Write a python program that tells me the last place Tom Cruise and Taylor Swift were\n",
        "\n",
        "2. Their numbers are N350XX and N621MM"
      ],
      "metadata": {
        "id": "-P2qK73r2r_4"
      }
    },
    {
      "cell_type": "code",
      "source": [
        "# do imports\n",
        "import requests\n",
        "import json\n",
        "import pandas as pd\n",
        "import json\n",
        "\n",
        "#Matt Damon Flight\n",
        "url = \"https://opensky-network.org/api/states/all?icao24=a55b7f\"\n",
        "response = requests.request(\"GET\", url)\n",
        "\n",
        "data = response.json()\n",
        "(json.dumps(data, indent=4))\n",
        "print(\"Latitude\", data['states'][0][6])\n",
        "print(\"Longitude\", data['states'][0][5])\n",
        "\n",
        "\n",
        "# At Time: Latitude: -91.526, Longitude: 31.6317\n",
        "\n",
        "\n",
        "\n",
        "\n"
      ],
      "metadata": {
        "colab": {
          "base_uri": "https://localhost:8080/"
        },
        "id": "hu0JOx7b20QN",
        "outputId": "afd33e79-cfeb-433e-8e88-55444779eafd"
      },
      "execution_count": 10,
      "outputs": [
        {
          "output_type": "stream",
          "name": "stdout",
          "text": [
            "Latitude 31.6821\n",
            "Longitude -91.7233\n"
          ]
        }
      ]
    }
  ]
}